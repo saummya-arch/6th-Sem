{
  "nbformat": 4,
  "nbformat_minor": 0,
  "metadata": {
    "colab": {
      "name": "Untitled",
      "provenance": []
    },
    "kernelspec": {
      "name": "python3",
      "display_name": "Python 3"
    }
  },
  "cells": [
    {
      "cell_type": "markdown",
      "metadata": {
        "id": "tom8ke2-1g2L"
      },
      "source": [
        "1. Consider a 2D list storing student's name along with their marks. Use list comprehension to create another list comprising names of students with  marks greater than 85."
      ]
    },
    {
      "cell_type": "code",
      "metadata": {
        "colab": {
          "base_uri": "https://localhost:8080/",
          "height": 0
        },
        "id": "d8nbQqU_1mDi",
        "outputId": "54caf860-dbc8-4655-b0da-6bdcfa91489d"
      },
      "source": [
        "def comprehendlist(arr):\r\n",
        "  newlist = [x for x in arr if x[1] > \"85\"]\r\n",
        "  print(newlist)\r\n",
        "\r\n",
        "def startingPoint():\r\n",
        "  rows = int(input(\"Enter number of rows: \"))\r\n",
        "  cols = int(input(\"Enter number of cols: \"))\r\n",
        "  arr=[] \r\n",
        "  for i in range(cols): \r\n",
        "      col = []\r\n",
        "      name = input(\"Enter names : \")\r\n",
        "      marks = input(\"Enter marks : \")\r\n",
        "      col.append(name)\r\n",
        "      col.append(marks) \r\n",
        "      arr.append(col) \r\n",
        "  print(arr)\r\n",
        "  comprehendlist(arr)\r\n",
        "\r\n",
        "if __name__ == \"__main__\":\r\n",
        "    startingPoint()"
      ],
      "execution_count": 23,
      "outputs": [
        {
          "output_type": "stream",
          "text": [
            "Enter number of rows: 2\n",
            "Enter number of cols: 2\n",
            "Enter names : kanishk\n",
            "Enter marks : 34\n",
            "Enter names : pooja\n",
            "Enter marks : 56\n",
            "[['kanishk', '34'], ['pooja', '56']]\n",
            "[]\n"
          ],
          "name": "stdout"
        }
      ]
    },
    {
      "cell_type": "markdown",
      "metadata": {
        "id": "VoFsYFouWoU8"
      },
      "source": [
        "2. WAP that takes a list of marks as an input from the user and creates a dictionary storing marks and the corresponding frequency as key-value pairs."
      ]
    },
    {
      "cell_type": "code",
      "metadata": {
        "colab": {
          "base_uri": "https://localhost:8080/",
          "height": 0
        },
        "id": "3Ja8B7LRt4kA",
        "outputId": "a851c9f7-75f9-4193-df95-28c2e7be8537"
      },
      "source": [
        "def frequency(marksList):\r\n",
        "    freq = {}\r\n",
        "    for mark in marksList:\r\n",
        "        if mark in freq:\r\n",
        "            freq[mark] += 1\r\n",
        "        else:\r\n",
        "            freq[mark] = 1\r\n",
        "    return freq\r\n",
        "\r\n",
        "\r\n",
        "def startingPoint():\r\n",
        "    marks = []\r\n",
        "    num = int(input(\"Enter size of list : \"))\r\n",
        "    for _ in range(0, num):\r\n",
        "        mark = int(input(\"Enter the marks : \"))\r\n",
        "        marks.append(mark)\r\n",
        "    print(marks)    \r\n",
        "    print(frequency(marks))\r\n",
        "\r\n",
        "\r\n",
        "if __name__ == \"__main__\":\r\n",
        "    startingPoint()"
      ],
      "execution_count": 17,
      "outputs": [
        {
          "output_type": "stream",
          "text": [
            "Enter size of list : 5\n",
            "Enter the marks : 34\n",
            "Enter the marks : 29\n",
            "Enter the marks : 23\n",
            "Enter the marks : 36\n",
            "Enter the marks : 40\n",
            "[34, 29, 23, 36, 40]\n",
            "{34: 1, 29: 1, 23: 1, 36: 1, 40: 1}\n"
          ],
          "name": "stdout"
        }
      ]
    },
    {
      "cell_type": "markdown",
      "metadata": {
        "id": "-qDBjHrN0iNR"
      },
      "source": [
        "3. WAP that takes a list of names as an input from the user and creates a dictionary storing word-length as key-value pair for each word given in the list."
      ]
    },
    {
      "cell_type": "code",
      "metadata": {
        "colab": {
          "base_uri": "https://localhost:8080/",
          "height": 0
        },
        "id": "h88wW2FNpOq0",
        "outputId": "274c03b1-4b15-4302-a4f4-dfb16dba4a8c"
      },
      "source": [
        "def createDict(lst):\r\n",
        "    res_dct = {}\r\n",
        "    print(num)\r\n",
        "    for i in range(0, num):\r\n",
        "        res_dct[lst[i]] = len(lst[i])\r\n",
        "    return res_dct\r\n",
        "\r\n",
        "def startingPoint():\r\n",
        "  names = []\r\n",
        "  num = int(input(\"Enter total number of names: \"))\r\n",
        "  for i in range(0, num):\r\n",
        "    name = input(\"Enter the name: \")\r\n",
        "    names.append(name)\r\n",
        "  print(names)\r\n",
        "  print(createDict(names))\r\n",
        "\r\n",
        "if __name__ == \"__main__\":\r\n",
        "    startingPoint()  "
      ],
      "execution_count": 19,
      "outputs": [
        {
          "output_type": "stream",
          "text": [
            "Enter total number of names: 5\n",
            "Enter the name: sumit\n",
            "Enter the name: somya\n",
            "Enter the name: vivek\n",
            "Enter the name: kanishk\n",
            "Enter the name: sahoo\n",
            "['sumit', 'somya', 'vivek', 'kanishk', 'sahoo']\n",
            "4\n",
            "{'sumit': 5, 'somya': 5, 'vivek': 5, 'kanishk': 7}\n"
          ],
          "name": "stdout"
        }
      ]
    }
  ]
}