{
  "nbformat": 4,
  "nbformat_minor": 0,
  "metadata": {
    "colab": {
      "name": "Q1.ipynb",
      "provenance": []
    },
    "kernelspec": {
      "name": "python3",
      "display_name": "Python 3"
    }
  },
  "cells": [
    {
      "cell_type": "markdown",
      "metadata": {
        "id": "VhhA8Chevzt8"
      },
      "source": [
        "# New Section"
      ]
    },
    {
      "cell_type": "markdown",
      "metadata": {
        "id": "dMyH0r3sv1kg"
      },
      "source": [
        "wap to print sum of numbers"
      ]
    },
    {
      "cell_type": "code",
      "metadata": {
        "colab": {
          "base_uri": "https://localhost:8080/"
        },
        "id": "qkDDBFegv4x-",
        "outputId": "8738cd56-4ae1-45a0-83cc-1d607ec92b5d"
      },
      "source": [
        "def sumofdigits(n):\r\n",
        "    sum=0\r\n",
        "    while(n!=0):\r\n",
        "      sum=sum+(n%10)\r\n",
        "      n=n//10\r\n",
        "    print(sum)\r\n",
        "\r\n",
        "def startingPoint():\r\n",
        "    val = int(input(\"Enter a no.\"))\r\n",
        "    sumofdigits(val)\r\n",
        "\r\n",
        "if __name__==\"__main__\":\r\n",
        "    startingPoint()\r\n"
      ],
      "execution_count": null,
      "outputs": [
        {
          "output_type": "stream",
          "text": [
            "Enter a no.456575875643\n",
            "65\n"
          ],
          "name": "stdout"
        }
      ]
    },
    {
      "cell_type": "markdown",
      "metadata": {
        "id": "wm68J0E73bfO"
      },
      "source": [
        "A Pattern"
      ]
    },
    {
      "cell_type": "code",
      "metadata": {
        "colab": {
          "base_uri": "https://localhost:8080/"
        },
        "id": "e07bdOmhyFKv",
        "outputId": "6c727e6c-5ad4-4502-cd42-2c32507f371d"
      },
      "source": [
        "def pattern(n):\r\n",
        "    for i in range(0,n):\r\n",
        "        for j in range(0,n-i):\r\n",
        "          print(j+1,end=' ')\r\n",
        "        print()\r\n",
        "\r\n",
        "def startingPoint():\r\n",
        "    val = int(input(\"Enter a no.\"))\r\n",
        "    pattern(val)\r\n",
        "\r\n",
        "if __name__==\"__main__\":\r\n",
        "    startingPoint()"
      ],
      "execution_count": null,
      "outputs": [
        {
          "output_type": "stream",
          "text": [
            "Enter a no.5\n",
            "1 2 3 4 5 \n",
            "1 2 3 4 \n",
            "1 2 3 \n",
            "1 2 \n",
            "1 \n"
          ],
          "name": "stdout"
        }
      ]
    },
    {
      "cell_type": "markdown",
      "metadata": {
        "id": "eGcp7yOc3fK4"
      },
      "source": [
        "B pattern"
      ]
    },
    {
      "cell_type": "code",
      "metadata": {
        "colab": {
          "base_uri": "https://localhost:8080/"
        },
        "id": "DJm9vSl23iHc",
        "outputId": "6c1ac4b3-2c60-4be4-e289-05ab43d5b1bc"
      },
      "source": [
        "def pattern(n):\r\n",
        "    for i in range(0,n):\r\n",
        "        for j in range(0,i+1):\r\n",
        "          print(n-j,end=' ')\r\n",
        "        print()\r\n",
        "\r\n",
        "def startingPoint():\r\n",
        "    val = int(input(\"Enter a no.\"))\r\n",
        "    pattern(val)\r\n",
        "\r\n",
        "if __name__==\"__main__\":\r\n",
        "    startingPoint()\r\n"
      ],
      "execution_count": null,
      "outputs": [
        {
          "output_type": "stream",
          "text": [
            "Enter a no.5\n",
            "5 \n",
            "5 4 \n",
            "5 4 3 \n",
            "5 4 3 2 \n",
            "5 4 3 2 1 \n"
          ],
          "name": "stdout"
        }
      ]
    },
    {
      "cell_type": "markdown",
      "metadata": {
        "id": "q1HLOdYP3x6x"
      },
      "source": [
        "C Pattern"
      ]
    },
    {
      "cell_type": "code",
      "metadata": {
        "colab": {
          "base_uri": "https://localhost:8080/"
        },
        "id": "uUx4mkbk3z3z",
        "outputId": "0bace3c0-4541-49eb-e9d2-8c5cefc6f656"
      },
      "source": [
        "def pattern(n):\r\n",
        "    for i in range(1, n + 1):\r\n",
        "        for j in range(n - i, 0, -1):\r\n",
        "            print(\" \", end=\" \")\r\n",
        "        for j in range(i, 0, -1):\r\n",
        "            print(j, end=\" \")\r\n",
        "        for j in range(2, i+1):\r\n",
        "            print(j, end=\" \")\r\n",
        "        print()\r\n",
        "\r\n",
        "\r\n",
        "def startingPoint():\r\n",
        "    val = int(input(\"Enter a no.\"))\r\n",
        "    pattern(val)\r\n",
        "\r\n",
        "\r\n",
        "if __name__ == \"__main__\":\r\n",
        "    startingPoint()"
      ],
      "execution_count": null,
      "outputs": [
        {
          "output_type": "stream",
          "text": [
            "Enter a no.3\n",
            "    1 \n",
            "  2 1 2 \n",
            "3 2 1 2 3 \n"
          ],
          "name": "stdout"
        }
      ]
    },
    {
      "cell_type": "markdown",
      "metadata": {
        "id": "Tnp5-9mn91mj"
      },
      "source": [
        "# New Section"
      ]
    }
  ]
}