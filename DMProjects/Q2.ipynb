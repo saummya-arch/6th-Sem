{
  "nbformat": 4,
  "nbformat_minor": 0,
  "metadata": {
    "colab": {
      "name": "Q2.ipynb",
      "provenance": []
    },
    "kernelspec": {
      "name": "python3",
      "display_name": "Python 3"
    }
  },
  "cells": [
    {
      "cell_type": "markdown",
      "metadata": {
        "id": "TBqE_AJs_RRk"
      },
      "source": [
        "1. WAP that takes a sentence as an input and convert the text in sentence to pig latin.\r\n",
        "Pig-Latin takes the first letter of a word, puts it at the end, and appends ay. The only exception is if the first letter is a vowel, in which case we keep it as it is and append hay to the end.\r\n",
        "    E.g. hello -> ellohay, and image -> imagehay\r\n"
      ]
    },
    {
      "cell_type": "code",
      "metadata": {
        "colab": {
          "base_uri": "https://localhost:8080/"
        },
        "id": "RaXqP-6r_SZc",
        "outputId": "8f0b2567-774e-43a7-ad9f-bf717a170d8a"
      },
      "source": [
        "def piglatin(val):\r\n",
        "    for i in val.split(\" \"):\r\n",
        "        if i[0] in [\"a\", \"e\", \"i\", \"o\", \"u\"]:\r\n",
        "            print(i + \"hay\", end=\" \")\r\n",
        "        else:\r\n",
        "            print(i[1 : len(i)] + i[0] + \"ay\", end=\" \")\r\n",
        "\r\n",
        "def startingPoint():\r\n",
        "    val = input(\"Enter a string:\")\r\n",
        "    piglatin(val)\r\n",
        "\r\n",
        "if __name__==\"__main__\":\r\n",
        "    startingPoint()\r\n"
      ],
      "execution_count": null,
      "outputs": [
        {
          "output_type": "stream",
          "text": [
            "Enter a string:baked\n",
            "akedbay "
          ],
          "name": "stdout"
        }
      ]
    },
    {
      "cell_type": "markdown",
      "metadata": {
        "id": "guebA6z1Ciu7"
      },
      "source": [
        "2. WAP that takes a list as an input and returns another list without duplicate values.\r\n"
      ]
    },
    {
      "cell_type": "code",
      "metadata": {
        "colab": {
          "base_uri": "https://localhost:8080/"
        },
        "id": "dUBcM6HKCpBn",
        "outputId": "d1a3ca62-6aae-4038-e41e-86a58e49526f"
      },
      "source": [
        "def duplicatelist(lst):\r\n",
        "    res = [] \r\n",
        "    for i in lst: \r\n",
        "        if i not in res: \r\n",
        "            res.append(i)\r\n",
        "    return res\r\n",
        "\r\n",
        "def startingPoint():\r\n",
        "    lst = [] \r\n",
        "    n = int(input(\"Enter number of elements : \"))\r\n",
        "    for i in range(0, n): \r\n",
        "        ele = int(input()) \r\n",
        "        lst.append(ele) \r\n",
        "    print(duplicatelist(lst))\r\n",
        "\r\n",
        "if __name__==\"__main__\":\r\n",
        "    startingPoint()"
      ],
      "execution_count": null,
      "outputs": [
        {
          "output_type": "stream",
          "text": [
            "Enter number of elements : 5\n",
            "1\n",
            "1\n",
            "5\n",
            "7\n",
            "9\n",
            "[1, 5, 7, 9]\n"
          ],
          "name": "stdout"
        }
      ]
    },
    {
      "cell_type": "markdown",
      "metadata": {
        "id": "A68f1OpkCDlE"
      },
      "source": [
        "3. WAP that takes a list as an input and returns the reversed list"
      ]
    },
    {
      "cell_type": "code",
      "metadata": {
        "colab": {
          "base_uri": "https://localhost:8080/"
        },
        "id": "ingfgj_XCId2",
        "outputId": "2b689e02-15a9-4d1e-e143-9f5f11581f77"
      },
      "source": [
        "\r\n",
        "def reversealist(lst):\r\n",
        "    lst.reverse()\r\n",
        "    return lst\r\n",
        "\r\n",
        "def startingPoint():\r\n",
        "    lst = [] \r\n",
        "    n = int(input(\"Enter number of elements : \"))\r\n",
        "    for i in range(0, n): \r\n",
        "        ele = int(input()) \r\n",
        "        lst.append(ele) \r\n",
        "    print(reversealist(lst))\r\n",
        "\r\n",
        "if __name__==\"__main__\":\r\n",
        "    startingPoint()"
      ],
      "execution_count": null,
      "outputs": [
        {
          "output_type": "stream",
          "text": [
            "Enter number of elements : 5\n",
            "1\n",
            "2\n",
            "3\n",
            "5\n",
            "6\n",
            "[6, 5, 3, 2, 1]\n"
          ],
          "name": "stdout"
        }
      ]
    }
  ]
}