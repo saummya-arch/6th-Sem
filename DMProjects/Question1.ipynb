{
  "nbformat": 4,
  "nbformat_minor": 0,
  "metadata": {
    "colab": {
      "name": "Question1",
      "provenance": []
    },
    "kernelspec": {
      "name": "python3",
      "display_name": "Python 3"
    }
  },
  "cells": [
    {
      "cell_type": "markdown",
      "metadata": {
        "id": "pflrs_UewUbz"
      },
      "source": [
        "Q1.Createafile“people.txt”withthefollowingdata: "
      ]
    },
    {
      "cell_type": "code",
      "metadata": {
        "id": "R6xUOxY5VyZm"
      },
      "source": [
        "import pandas as pd\r\n",
        "import numpy as np\r\n",
        "import matplotlib.pyplot as plt"
      ],
      "execution_count": null,
      "outputs": []
    },
    {
      "cell_type": "code",
      "metadata": {
        "colab": {
          "base_uri": "https://localhost:8080/"
        },
        "id": "NNsucYl2t_8s",
        "outputId": "1ff00b6f-d24d-4434-df12-e47793191959"
      },
      "source": [
        "from google.colab import drive\r\n",
        "drive.mount('/content/drive')\r\n",
        "import os\r\n",
        "os.chdir('/content/drive/My Drive/DMQuestions/')"
      ],
      "execution_count": 1,
      "outputs": [
        {
          "output_type": "stream",
          "text": [
            "Mounted at /content/drive\n"
          ],
          "name": "stdout"
        }
      ]
    },
    {
      "cell_type": "code",
      "metadata": {
        "id": "rY4ty03Duhk3"
      },
      "source": [
        "import pandas as pd\r\n",
        "import numpy as np\r\n",
        "import matplotlib.pyplot as plt\r\n",
        "df = pd.read_table('DMQ1dataset.txt', delim_whitespace = True, names=('Age','Agegroup','Height','Status','Yearsmarried'))"
      ],
      "execution_count": 4,
      "outputs": []
    },
    {
      "cell_type": "code",
      "metadata": {
        "colab": {
          "base_uri": "https://localhost:8080/",
          "height": 195
        },
        "id": "EPa0fJ_XvJQR",
        "outputId": "4af194bc-c8c3-46c8-9c08-6f8f40bcdf16"
      },
      "source": [
        "df"
      ],
      "execution_count": 5,
      "outputs": [
        {
          "output_type": "execute_result",
          "data": {
            "text/html": [
              "<div>\n",
              "<style scoped>\n",
              "    .dataframe tbody tr th:only-of-type {\n",
              "        vertical-align: middle;\n",
              "    }\n",
              "\n",
              "    .dataframe tbody tr th {\n",
              "        vertical-align: top;\n",
              "    }\n",
              "\n",
              "    .dataframe thead th {\n",
              "        text-align: right;\n",
              "    }\n",
              "</style>\n",
              "<table border=\"1\" class=\"dataframe\">\n",
              "  <thead>\n",
              "    <tr style=\"text-align: right;\">\n",
              "      <th></th>\n",
              "      <th>Age</th>\n",
              "      <th>Agegroup</th>\n",
              "      <th>Height</th>\n",
              "      <th>Status</th>\n",
              "      <th>Yearsmarried</th>\n",
              "    </tr>\n",
              "  </thead>\n",
              "  <tbody>\n",
              "    <tr>\n",
              "      <th>0</th>\n",
              "      <td>21</td>\n",
              "      <td>adult</td>\n",
              "      <td>6.0</td>\n",
              "      <td>single</td>\n",
              "      <td>-1</td>\n",
              "    </tr>\n",
              "    <tr>\n",
              "      <th>1</th>\n",
              "      <td>2</td>\n",
              "      <td>child</td>\n",
              "      <td>3.0</td>\n",
              "      <td>married</td>\n",
              "      <td>0</td>\n",
              "    </tr>\n",
              "    <tr>\n",
              "      <th>2</th>\n",
              "      <td>18</td>\n",
              "      <td>adult</td>\n",
              "      <td>5.7</td>\n",
              "      <td>married</td>\n",
              "      <td>20</td>\n",
              "    </tr>\n",
              "    <tr>\n",
              "      <th>3</th>\n",
              "      <td>221</td>\n",
              "      <td>elderly</td>\n",
              "      <td>5.0</td>\n",
              "      <td>widowed</td>\n",
              "      <td>2</td>\n",
              "    </tr>\n",
              "    <tr>\n",
              "      <th>4</th>\n",
              "      <td>34</td>\n",
              "      <td>child</td>\n",
              "      <td>-7.0</td>\n",
              "      <td>married</td>\n",
              "      <td>3</td>\n",
              "    </tr>\n",
              "  </tbody>\n",
              "</table>\n",
              "</div>"
            ],
            "text/plain": [
              "   Age Agegroup  Height   Status  Yearsmarried\n",
              "0   21    adult     6.0   single            -1\n",
              "1    2    child     3.0  married             0\n",
              "2   18    adult     5.7  married            20\n",
              "3  221  elderly     5.0  widowed             2\n",
              "4   34    child    -7.0  married             3"
            ]
          },
          "metadata": {
            "tags": []
          },
          "execution_count": 5
        }
      ]
    },
    {
      "cell_type": "markdown",
      "metadata": {
        "id": "OOUSqPsWv6Kw"
      },
      "source": [
        "1.The age should be in the range 0-150. \r\n"
      ]
    },
    {
      "cell_type": "code",
      "metadata": {
        "colab": {
          "base_uri": "https://localhost:8080/"
        },
        "id": "NVsTN9mawbFE",
        "outputId": "e182ac1a-d128-476d-cb2e-2eb01390d169"
      },
      "source": [
        "#lambda expressions\r\n",
        "#lambda arguements: expression\r\n",
        "age_range = lambda r : r in range(151)              #151 excluded, it will continue till 150  , and lambda(r) is arguement\r\n",
        "df['Age'].apply(age_range)                          #seriesly on the column of data it will apply age_range function\r\n"
      ],
      "execution_count": 6,
      "outputs": [
        {
          "output_type": "execute_result",
          "data": {
            "text/plain": [
              "0     True\n",
              "1     True\n",
              "2     True\n",
              "3    False\n",
              "4     True\n",
              "Name: Age, dtype: bool"
            ]
          },
          "metadata": {
            "tags": []
          },
          "execution_count": 6
        }
      ]
    },
    {
      "cell_type": "markdown",
      "metadata": {
        "id": "QyoC6bRLxLjt"
      },
      "source": [
        "2.The age should be greater than years married. \r\n"
      ]
    },
    {
      "cell_type": "code",
      "metadata": {
        "colab": {
          "base_uri": "https://localhost:8080/"
        },
        "id": "rycs0A28xPZk",
        "outputId": "0d49d9ab-173b-414f-9de2-e1879c4cd95c"
      },
      "source": [
        "age_limit = lambda x: x[0] > x[4]\r\n",
        "df.apply(age_limit,axis=1)"
      ],
      "execution_count": 15,
      "outputs": [
        {
          "output_type": "execute_result",
          "data": {
            "text/plain": [
              "0     True\n",
              "1     True\n",
              "2    False\n",
              "3     True\n",
              "4     True\n",
              "dtype: bool"
            ]
          },
          "metadata": {
            "tags": []
          },
          "execution_count": 15
        }
      ]
    },
    {
      "cell_type": "markdown",
      "metadata": {
        "id": "_jz9r3sx30ku"
      },
      "source": [
        "3.The status should be married or single or widowed. \r\n"
      ]
    },
    {
      "cell_type": "code",
      "metadata": {
        "colab": {
          "base_uri": "https://localhost:8080/"
        },
        "id": "T46IvVgf4Gew",
        "outputId": "b2adb9a2-17d6-45e6-94ba-93e00f230e17"
      },
      "source": [
        "def check_status(df):\r\n",
        "  status_check = lambda r : r #in df['Status'].values\r\n",
        "  print(df['Status'].apply(status_check))\r\n",
        "\r\n",
        "check_status(df)  "
      ],
      "execution_count": 12,
      "outputs": [
        {
          "output_type": "stream",
          "text": [
            "0     single\n",
            "1    married\n",
            "2    married\n",
            "3    widowed\n",
            "4    married\n",
            "Name: Status, dtype: object\n"
          ],
          "name": "stdout"
        }
      ]
    },
    {
      "cell_type": "markdown",
      "metadata": {
        "id": "I-_yb0fe0XEv"
      },
      "source": [
        "4.If age is less than 18 the age group should be child,if age is between 18 and 65 the age group should be adult,if age is more than 65 the age group should be elderly. \r\n"
      ]
    },
    {
      "cell_type": "code",
      "metadata": {
        "colab": {
          "base_uri": "https://localhost:8080/"
        },
        "id": "drByyg6R0edW",
        "outputId": "078340be-bc6d-4329-c889-6f8c058f2490"
      },
      "source": [
        "Agegroupcheck = lambda x : x[1]\r\n",
        "df[['Age', 'Agegroup']].apply(Agegroupcheck, axis =1)"
      ],
      "execution_count": 9,
      "outputs": [
        {
          "output_type": "execute_result",
          "data": {
            "text/plain": [
              "0      adult\n",
              "1      child\n",
              "2      adult\n",
              "3    elderly\n",
              "4      child\n",
              "dtype: object"
            ]
          },
          "metadata": {
            "tags": []
          },
          "execution_count": 9
        }
      ]
    },
    {
      "cell_type": "code",
      "metadata": {
        "colab": {
          "base_uri": "https://localhost:8080/"
        },
        "id": "Z8WVnVBf1E1D",
        "outputId": "95687390-15e6-491a-bd65-a283de61aa30"
      },
      "source": [
        "df1 = df[['Age', 'Agegroup']]\r\n",
        "print(df1)"
      ],
      "execution_count": 10,
      "outputs": [
        {
          "output_type": "stream",
          "text": [
            "   Age Agegroup\n",
            "0   21    adult\n",
            "1    2    child\n",
            "2   18    adult\n",
            "3  221  elderly\n",
            "4   34    child\n"
          ],
          "name": "stdout"
        }
      ]
    }
  ]
}