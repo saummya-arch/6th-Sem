{
  "nbformat": 4,
  "nbformat_minor": 0,
  "metadata": {
    "colab": {
      "name": "NumpyExercises",
      "provenance": []
    },
    "kernelspec": {
      "name": "python3",
      "display_name": "Python 3"
    }
  },
  "cells": [
    {
      "cell_type": "markdown",
      "metadata": {
        "id": "THUkJSdXWoKn"
      },
      "source": [
        "1. Write a NumPy program to convert a given array into a list and then convert it into a numpy array again."
      ]
    },
    {
      "cell_type": "code",
      "metadata": {
        "colab": {
          "base_uri": "https://localhost:8080/"
        },
        "id": "eObt2wVeWgp4",
        "outputId": "7d238783-fe11-4c6a-cf99-38d4540953c8"
      },
      "source": [
        "import numpy as np\r\n",
        "x= np.arange(6).reshape(3, 2)\r\n",
        "print(\"Original array elements:\")\r\n",
        "print(x)\r\n",
        "print(\"Array to list:\")\r\n",
        "print(x.tolist())"
      ],
      "execution_count": null,
      "outputs": [
        {
          "output_type": "stream",
          "text": [
            "Original array elements:\n",
            "[[0 1]\n",
            " [2 3]\n",
            " [4 5]]\n",
            "Array to list:\n",
            "[[0, 1], [2, 3], [4, 5]]\n"
          ],
          "name": "stdout"
        }
      ]
    },
    {
      "cell_type": "markdown",
      "metadata": {
        "id": "eGBddKMyYCMe"
      },
      "source": [
        "2. Create a 5X2 integer array from a range between 100 to 200 such that the difference between each element is 10."
      ]
    },
    {
      "cell_type": "code",
      "metadata": {
        "colab": {
          "base_uri": "https://localhost:8080/"
        },
        "id": "BR6Td4doYEmV",
        "outputId": "08db2b2d-8c40-4a44-f148-f233c85a09a1"
      },
      "source": [
        "import numpy\r\n",
        "\r\n",
        "print(\"Creating 5X2 array using numpy.arange\")\r\n",
        "sampleArray = numpy.arange(100, 200, 10)\r\n",
        "sampleArray = sampleArray.reshape(5,2)\r\n",
        "print (sampleArray)"
      ],
      "execution_count": null,
      "outputs": [
        {
          "output_type": "stream",
          "text": [
            "Creating 5X2 array using numpy.arange\n",
            "[[100 110]\n",
            " [120 130]\n",
            " [140 150]\n",
            " [160 170]\n",
            " [180 190]]\n"
          ],
          "name": "stdout"
        }
      ]
    },
    {
      "cell_type": "markdown",
      "metadata": {
        "id": "uxJPxgKlYacv"
      },
      "source": [
        "3. Add the two 2D NumPy arrays and modify the resulting array by calculating the square root of each element"
      ]
    },
    {
      "cell_type": "code",
      "metadata": {
        "id": "gduwQ4-LYdR_"
      },
      "source": [
        ""
      ],
      "execution_count": null,
      "outputs": []
    },
    {
      "cell_type": "markdown",
      "metadata": {
        "id": "wJOq5MIUYv5N"
      },
      "source": [
        "4. Create an 8X3 integer array from a range between 10 to 34 such that the difference between each element is 1 and then Split the array into four equal-sized sub-arrays."
      ]
    },
    {
      "cell_type": "code",
      "metadata": {
        "colab": {
          "base_uri": "https://localhost:8080/"
        },
        "id": "2lP63vQOZSu1",
        "outputId": "99e8276c-3b14-44a2-a30d-93b6c46ec0bc"
      },
      "source": [
        "import numpy\r\n",
        "\r\n",
        "print(\"Creating 8X3 array using numpy.arange\")\r\n",
        "sampleArray = numpy.arange(10, 34, 1)\r\n",
        "sampleArray = sampleArray.reshape(8,3)\r\n",
        "print (sampleArray)\r\n",
        "\r\n",
        "print(\"\\nDividing 8X3 array into 4 sub array\\n\")\r\n",
        "subArrays = numpy.split(sampleArray, 4) \r\n",
        "print(subArrays)"
      ],
      "execution_count": null,
      "outputs": [
        {
          "output_type": "stream",
          "text": [
            "Creating 8X3 array using numpy.arange\n",
            "[[10 11 12]\n",
            " [13 14 15]\n",
            " [16 17 18]\n",
            " [19 20 21]\n",
            " [22 23 24]\n",
            " [25 26 27]\n",
            " [28 29 30]\n",
            " [31 32 33]]\n",
            "\n",
            "Dividing 8X3 array into 4 sub array\n",
            "\n",
            "[array([[10, 11, 12],\n",
            "       [13, 14, 15]]), array([[16, 17, 18],\n",
            "       [19, 20, 21]]), array([[22, 23, 24],\n",
            "       [25, 26, 27]]), array([[28, 29, 30],\n",
            "       [31, 32, 33]])]\n"
          ],
          "name": "stdout"
        }
      ]
    },
    {
      "cell_type": "markdown",
      "metadata": {
        "id": "-FEjSjs5ZXAD"
      },
      "source": [
        "5. Consider the following array:\r\n",
        "sampleArray = numpy.array([[34,43,73],[82,22,12],[53,94,66]])\r\n",
        "\r\n",
        "i. Sort above array by second row\r\n",
        "\r\n"
      ]
    },
    {
      "cell_type": "code",
      "metadata": {
        "colab": {
          "base_uri": "https://localhost:8080/"
        },
        "id": "6qDRUuhoZflw",
        "outputId": "eb22d9d6-f7ba-4c42-e043-357317348807"
      },
      "source": [
        "import numpy as np\r\n",
        "sampleArray = np.array([[34,43,73],[82,22,12],[53,94,66]])\r\n",
        "print(sampleArray)\r\n",
        "sorted_array = sampleArray [ :, sampleArray[1].argsort()]\r\n",
        "print(sorted_array)"
      ],
      "execution_count": null,
      "outputs": [
        {
          "output_type": "stream",
          "text": [
            "[[34 43 73]\n",
            " [82 22 12]\n",
            " [53 94 66]]\n",
            "[[73 43 34]\n",
            " [12 22 82]\n",
            " [66 94 53]]\n"
          ],
          "name": "stdout"
        }
      ]
    },
    {
      "cell_type": "markdown",
      "metadata": {
        "id": "XPmI9RcAeMZ8"
      },
      "source": [
        "ii. Sort above array by second column"
      ]
    },
    {
      "cell_type": "code",
      "metadata": {
        "colab": {
          "base_uri": "https://localhost:8080/"
        },
        "id": "238y2dNweSo6",
        "outputId": "f2740698-a194-448b-e278-d085ea3eb523"
      },
      "source": [
        "import numpy as np\r\n",
        "sampleArray = np.array([[34,43,73],[82,22,12],[53,94,66]])\r\n",
        "print(sampleArray)\r\n",
        "sorted_array = sampleArray[np.argsort(sampleArray[:, 1])]\r\n",
        "print(sorted_array)\r\n"
      ],
      "execution_count": null,
      "outputs": [
        {
          "output_type": "stream",
          "text": [
            "[[34 43 73]\n",
            " [82 22 12]\n",
            " [53 94 66]]\n",
            "[[82 22 12]\n",
            " [34 43 73]\n",
            " [53 94 66]]\n"
          ],
          "name": "stdout"
        }
      ]
    },
    {
      "cell_type": "markdown",
      "metadata": {
        "id": "IKjEnCDahWrj"
      },
      "source": [
        "iii. Print max from axis 0 and min from axis 1"
      ]
    },
    {
      "cell_type": "code",
      "metadata": {
        "colab": {
          "base_uri": "https://localhost:8080/"
        },
        "id": "jf4Er5qNhc15",
        "outputId": "5c693935-6cab-49fc-91d5-3ce3bdec37e9"
      },
      "source": [
        "import numpy as np\r\n",
        "sampleArray = np.array([[34,43,73],[82,22,12],[53,94,66]])\r\n",
        "print(sampleArray)\r\n",
        "print(sampleArray.max(axis=0))\r\n",
        "print(sampleArray.min(axis=1))"
      ],
      "execution_count": null,
      "outputs": [
        {
          "output_type": "stream",
          "text": [
            "[[34 43 73]\n",
            " [82 22 12]\n",
            " [53 94 66]]\n",
            "[82 94 73]\n",
            "[34 12 53]\n"
          ],
          "name": "stdout"
        }
      ]
    },
    {
      "cell_type": "markdown",
      "metadata": {
        "id": "GJFXjtrFhqTY"
      },
      "source": [
        "iv. Delete col 2 and insert new Column numpy.array([[10,10,10]]) in its place"
      ]
    },
    {
      "cell_type": "code",
      "metadata": {
        "colab": {
          "base_uri": "https://localhost:8080/"
        },
        "id": "v0nhlMYThszD",
        "outputId": "ccf6efc6-ba4c-4e1e-eb82-d127b3ccd224"
      },
      "source": [
        "import numpy as np\r\n",
        "sampleArray = np.array([[34,43,73],[82,22,12],[53,94,66]])\r\n",
        "sampleArray=np.delete(sampleArray,obj=1,axis=1)\r\n",
        "sampleArray = np.insert(sampleArray, 1, [10],axis=1)\r\n",
        "print(sampleArray)\r\n"
      ],
      "execution_count": null,
      "outputs": [
        {
          "output_type": "stream",
          "text": [
            "[[34 10 73]\n",
            " [82 10 12]\n",
            " [53 10 66]]\n"
          ],
          "name": "stdout"
        }
      ]
    },
    {
      "cell_type": "markdown",
      "metadata": {
        "id": "Mv65q7UMojoP"
      },
      "source": [
        "6. Remove all the elemnets from an array that exist in another array?"
      ]
    },
    {
      "cell_type": "code",
      "metadata": {
        "colab": {
          "base_uri": "https://localhost:8080/"
        },
        "id": "-oAM5aVbomT5",
        "outputId": "36f7cb5e-0b31-4a88-8b3a-1afbcb332957"
      },
      "source": [
        "import numpy as np\r\n",
        "A=np.arange(10,20)\r\n",
        "B=np.arange(1,15)\r\n",
        "#A=[i for i in A if i not in B]\r\n",
        "np.setdiff1d(A,B)\r\n",
        "print(A)"
      ],
      "execution_count": null,
      "outputs": [
        {
          "output_type": "stream",
          "text": [
            "[10 11 12 13 14 15 16 17 18 19]\n"
          ],
          "name": "stdout"
        }
      ]
    },
    {
      "cell_type": "markdown",
      "metadata": {
        "id": "SslaUvrtorFu"
      },
      "source": [
        "7. Swap two columns in a 2d NumPy array"
      ]
    },
    {
      "cell_type": "code",
      "metadata": {
        "colab": {
          "base_uri": "https://localhost:8080/"
        },
        "id": "IMkChsg5ovEU",
        "outputId": "e1ff5bc8-ae6f-4181-f06f-f368c9d2b2c8"
      },
      "source": [
        "import numpy as np\r\n",
        "sampleArray = np.array([[34,43,73],[82,22,12],[53,94,66]])\r\n",
        "#sampleArray[:,0],sampleArray[:,1] = sampleArray[:,1],sampleArray[:,0\r\n",
        "sampleArray[:,[0, 1]] = sampleArray[:,[1, 0]]\r\n",
        "print(sampleArray)\r\n"
      ],
      "execution_count": null,
      "outputs": [
        {
          "output_type": "stream",
          "text": [
            "[[43 34 73]\n",
            " [22 82 12]\n",
            " [94 53 66]]\n"
          ],
          "name": "stdout"
        }
      ]
    },
    {
      "cell_type": "markdown",
      "metadata": {
        "id": "SKtKilQHoznk"
      },
      "source": [
        "8. Swap two rows in a 2d NumPy array"
      ]
    },
    {
      "cell_type": "code",
      "metadata": {
        "colab": {
          "base_uri": "https://localhost:8080/"
        },
        "id": "CtvfBRcxo5xJ",
        "outputId": "77899ef6-b553-4403-c3f8-45db01e8ad43"
      },
      "source": [
        "import numpy as np\r\n",
        "sampleArray = np.array([[34,43,73],[82,22,12],[53,94,66]])\r\n",
        "sampleArray[[0, 1],:] = sampleArray[[1, 0],:]\r\n",
        "print(sampleArray)\r\n"
      ],
      "execution_count": null,
      "outputs": [
        {
          "output_type": "stream",
          "text": [
            "[[82 22 12]\n",
            " [34 43 73]\n",
            " [53 94 66]]\n"
          ],
          "name": "stdout"
        }
      ]
    },
    {
      "cell_type": "markdown",
      "metadata": {
        "id": "AeB8aye0o83j"
      },
      "source": [
        "9. Reverse the order of rows of a 2D array"
      ]
    },
    {
      "cell_type": "code",
      "metadata": {
        "colab": {
          "base_uri": "https://localhost:8080/"
        },
        "id": "RHqMRWDZpAfp",
        "outputId": "f7f86a68-8240-4ece-9ce5-97e93e405694"
      },
      "source": [
        "import numpy as np\r\n",
        "sampleArray = np.array([[34,43,73],[82,22,12],[53,94,66]])\r\n",
        "#sampleArray[:,:] = sampleArray[::-1,:]\r\n",
        "sampleArray[:] = sampleArray[::-1]\r\n",
        "print(sampleArray)"
      ],
      "execution_count": null,
      "outputs": [
        {
          "output_type": "stream",
          "text": [
            "[[53 94 66]\n",
            " [82 22 12]\n",
            " [34 43 73]]\n"
          ],
          "name": "stdout"
        }
      ]
    },
    {
      "cell_type": "markdown",
      "metadata": {
        "id": "_2WkQ6vreN5N"
      },
      "source": [
        "10. Reverse the order of columns of a 2D array"
      ]
    },
    {
      "cell_type": "code",
      "metadata": {
        "colab": {
          "base_uri": "https://localhost:8080/"
        },
        "id": "Z8GhQpoleRAD",
        "outputId": "b820a9b0-0a66-4c1b-d874-31aa766cbd72"
      },
      "source": [
        "import numpy as np\r\n",
        "sampleArray = np.array([[34,43,73],[82,22,12],[53,94,66]])\r\n",
        "sampleArray[:,:] = sampleArray[:,::-1]\r\n",
        "print(sampleArray)"
      ],
      "execution_count": 1,
      "outputs": [
        {
          "output_type": "stream",
          "text": [
            "[[73 43 34]\n",
            " [12 22 82]\n",
            " [66 94 53]]\n"
          ],
          "name": "stdout"
        }
      ]
    },
    {
      "cell_type": "markdown",
      "metadata": {
        "id": "Ga3f5TrkeU7u"
      },
      "source": [
        "11. Retrieve common items between two python NumPy arrays?"
      ]
    },
    {
      "cell_type": "code",
      "metadata": {
        "colab": {
          "base_uri": "https://localhost:8080/"
        },
        "id": "HRUJdxlaeuGB",
        "outputId": "0e2be543-d84a-4c23-e05e-384409b2b87d"
      },
      "source": [
        "import numpy as np\r\n",
        "A=np.arange(10,20)\r\n",
        "B=np.arange(1,15)\r\n",
        "print(np.intersect1d(A, B))\r\n"
      ],
      "execution_count": 2,
      "outputs": [
        {
          "output_type": "stream",
          "text": [
            "[10 11 12 13 14]\n"
          ],
          "name": "stdout"
        }
      ]
    },
    {
      "cell_type": "markdown",
      "metadata": {
        "id": "83sidFKkevUK"
      },
      "source": [
        "12. Retrive indices where elements of two arrays match"
      ]
    },
    {
      "cell_type": "code",
      "metadata": {
        "colab": {
          "base_uri": "https://localhost:8080/"
        },
        "id": "I5WLFGHpezOv",
        "outputId": "23983efb-74d8-4042-8e56-e4d3ef05765c"
      },
      "source": [
        "import numpy as np\r\n",
        "A=np.array([1,2,3,4,5,6,7,8])\r\n",
        "B=np.array([1,1,2,3,5,6,9,8])\r\n",
        "print(np.where(A == B))"
      ],
      "execution_count": 3,
      "outputs": [
        {
          "output_type": "stream",
          "text": [
            "(array([0, 4, 5, 7]),)\n"
          ],
          "name": "stdout"
        }
      ]
    },
    {
      "cell_type": "markdown",
      "metadata": {
        "id": "DceWIvcMe3ib"
      },
      "source": [
        "13. Get all items between 5 and 10 from an array"
      ]
    },
    {
      "cell_type": "code",
      "metadata": {
        "colab": {
          "base_uri": "https://localhost:8080/"
        },
        "id": "8BRKt9Hbe6I3",
        "outputId": "ffb77339-502a-4530-c684-a72d96631406"
      },
      "source": [
        "import numpy as np\r\n",
        "A=np.arange(1,20)\r\n",
        "print(np.where((A>5) & (A<10)))\r\n",
        "#print(np.where(np.logical_and(A>5, A<10)))"
      ],
      "execution_count": 4,
      "outputs": [
        {
          "output_type": "stream",
          "text": [
            "(array([5, 6, 7, 8]),)\n"
          ],
          "name": "stdout"
        }
      ]
    },
    {
      "cell_type": "markdown",
      "metadata": {
        "id": "ND1l7EaTe-Mw"
      },
      "source": [
        "14. For a 1D array with numeric values, nd minimum, maximum,\r\n",
        "mean, median, standard deviation, 5th and 95th percentile, unique\r\n",
        "values, count of unique values, and the most frequent value.\r\n"
      ]
    },
    {
      "cell_type": "code",
      "metadata": {
        "colab": {
          "base_uri": "https://localhost:8080/"
        },
        "id": "4zksaa_afBBC",
        "outputId": "5ddf85a4-b354-403a-c031-6a309d87cb92"
      },
      "source": [
        "import numpy as np\r\n",
        "import statistics\r\n",
        "A=np.arange(10,20)\r\n",
        "A = np.concatenate((A, np.arange(1,15),[10]))\r\n",
        "A=np.sort(A)\r\n",
        "print(np.amin(A))\r\n",
        "print(np.amax(A))\r\n",
        "print(np.mean(A))\r\n",
        "print(np.median(A))\r\n",
        "print(np.std(A))\r\n",
        "print(np.percentile(A,5))\r\n",
        "print(np.percentile(A,95))\r\n",
        "print(np.unique(A))\r\n",
        "print(len(np.unique(A)))\r\n",
        "print(statistics.mode(A))"
      ],
      "execution_count": 5,
      "outputs": [
        {
          "output_type": "stream",
          "text": [
            "1\n",
            "19\n",
            "10.4\n",
            "11.0\n",
            "4.882622246293481\n",
            "2.2\n",
            "17.799999999999997\n",
            "[ 1  2  3  4  5  6  7  8  9 10 11 12 13 14 15 16 17 18 19]\n",
            "19\n",
            "10\n"
          ],
          "name": "stdout"
        }
      ]
    },
    {
      "cell_type": "markdown",
      "metadata": {
        "id": "0TbMmgDffG6b"
      },
      "source": [
        "15. Write a NumPy program to create a 10x10 matrix, in which all the\r\n",
        "elements on the borders should be equal to 1, and rest others\r\n",
        "should be 0.\r\n"
      ]
    },
    {
      "cell_type": "code",
      "metadata": {
        "colab": {
          "base_uri": "https://localhost:8080/"
        },
        "id": "--F-0MUUfKD9",
        "outputId": "e23b3faa-458d-4e04-afa2-2eb6b53b2d85"
      },
      "source": [
        "import numpy as np\r\n",
        "A = np.ones((10, 10))\r\n",
        "A[1:-1, 1:-1] = 0\r\n",
        "print(A)"
      ],
      "execution_count": 7,
      "outputs": [
        {
          "output_type": "stream",
          "text": [
            "[[1. 1. 1. 1. 1. 1. 1. 1. 1. 1.]\n",
            " [1. 0. 0. 0. 0. 0. 0. 0. 0. 1.]\n",
            " [1. 0. 0. 0. 0. 0. 0. 0. 0. 1.]\n",
            " [1. 0. 0. 0. 0. 0. 0. 0. 0. 1.]\n",
            " [1. 0. 0. 0. 0. 0. 0. 0. 0. 1.]\n",
            " [1. 0. 0. 0. 0. 0. 0. 0. 0. 1.]\n",
            " [1. 0. 0. 0. 0. 0. 0. 0. 0. 1.]\n",
            " [1. 0. 0. 0. 0. 0. 0. 0. 0. 1.]\n",
            " [1. 0. 0. 0. 0. 0. 0. 0. 0. 1.]\n",
            " [1. 1. 1. 1. 1. 1. 1. 1. 1. 1.]]\n"
          ],
          "name": "stdout"
        }
      ]
    },
    {
      "cell_type": "markdown",
      "metadata": {
        "id": "TVdfv8CwfZ0W"
      },
      "source": [
        "16. Write a NumPy program to create a 5x5 zero matrix with elements\r\n",
        "on the main diagonal equal to 1, 2, 3, 4, 5\r\n"
      ]
    },
    {
      "cell_type": "code",
      "metadata": {
        "colab": {
          "base_uri": "https://localhost:8080/"
        },
        "id": "HL2cv5YUfclx",
        "outputId": "7b88d9a4-d427-4964-ce5d-ba104918158a"
      },
      "source": [
        "import numpy as np\r\n",
        "#A = np.eye(5)\r\n",
        "A=np.diagflat([1,2,3,4,5])\r\n",
        "print(A)\r\n"
      ],
      "execution_count": 8,
      "outputs": [
        {
          "output_type": "stream",
          "text": [
            "[[1 0 0 0 0]\n",
            " [0 2 0 0 0]\n",
            " [0 0 3 0 0]\n",
            " [0 0 0 4 0]\n",
            " [0 0 0 0 5]]\n"
          ],
          "name": "stdout"
        }
      ]
    },
    {
      "cell_type": "markdown",
      "metadata": {
        "id": "rV87jx_ffhb5"
      },
      "source": [
        "17. Count the number of elements in a numpy array which are greater than 10. Further, multiply all such elements with value 10."
      ]
    },
    {
      "cell_type": "code",
      "metadata": {
        "colab": {
          "base_uri": "https://localhost:8080/"
        },
        "id": "QGL_FRK3gPvq",
        "outputId": "5bd517df-7c7b-484a-d28e-6d8ef43f72ae"
      },
      "source": [
        "import numpy as np\r\n",
        "A=np.arange(10,20)\r\n",
        "A = np.concatenate((A, np.arange(1,15),[10]))\r\n",
        "print(np.count_nonzero(A>10))\r\n",
        "A[np.nonzero(A>10)]=A[np.nonzero(A>10)]*10\r\n",
        "print(A)\r\n"
      ],
      "execution_count": 9,
      "outputs": [
        {
          "output_type": "stream",
          "text": [
            "13\n",
            "[ 10 110 120 130 140 150 160 170 180 190   1   2   3   4   5   6   7   8\n",
            "   9  10 110 120 130 140  10]\n"
          ],
          "name": "stdout"
        }
      ]
    }
  ]
}