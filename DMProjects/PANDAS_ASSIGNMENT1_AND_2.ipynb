{
  "nbformat": 4,
  "nbformat_minor": 0,
  "metadata": {
    "colab": {
      "name": "PANDAS ASSIGNMENT1 AND 2.ipynb",
      "provenance": [],
      "collapsed_sections": []
    },
    "kernelspec": {
      "name": "python3",
      "display_name": "Python 3"
    }
  },
  "cells": [
    {
      "cell_type": "markdown",
      "metadata": {
        "id": "gsmbeVbIBY8n"
      },
      "source": [
        "PFA two ipynb files comprising questions based on pandas and the required data file. Write the Python statements corresponding to each and every question and submit the IPYNB files.."
      ]
    },
    {
      "cell_type": "markdown",
      "metadata": {
        "id": "tvhFW05wBab6"
      },
      "source": [
        "Write a Pandas program to select the rows the score is between 15 and 20 (inclusive). Sample DataFrame: exam_data = {'name': ['Anastasia', 'Dima', 'Katherine', 'James', 'Emily', 'Michael', 'Matthew', 'Laura', 'Kevin', 'Jonas'], 'score': [12.5, 9, 16.5, np.nan, 9, 20, 14.5, np.nan, 8, 19], 'attempts': [1, 3, 2, 3, 2, 3, 1, 1, 2, 1], 'qualify': ['yes', 'no', 'yes', 'no', 'no', 'yes', 'yes', 'no', 'no', 'yes']} labels = ['a', 'b', 'c', 'd', 'e', 'f', 'g', 'h', 'i', 'j']"
      ]
    },
    {
      "cell_type": "code",
      "metadata": {
        "colab": {
          "base_uri": "https://localhost:8080/"
        },
        "id": "n2dxZEudBf1c",
        "outputId": "1e64506f-b2dd-4732-b600-f1041c6cd294"
      },
      "source": [
        "import pandas as pd\r\n",
        "import numpy as np\r\n",
        "exam_data = {'name': ['Anastasia', 'Dima', 'Katherine', 'James', 'Emily', 'Michael', 'Matthew', 'Laura', 'Kevin', 'Jonas'], 'score': [12.5, 9, 16.5, np.nan, 9, 20, 14.5, np.nan, 8, 19], 'attempts': [1, 3, 2, 3, 2, 3, 1, 1, 2, 1], 'qualify': ['yes', 'no', 'yes', 'no', 'no', 'yes', 'yes', 'no', 'no', 'yes']}\r\n",
        "labels = ['a', 'b', 'c', 'd', 'e', 'f', 'g', 'h', 'i', 'j']\r\n",
        "df = pd.DataFrame(exam_data)\r\n",
        "print(df[df.score.between(15, 20)])\r\n"
      ],
      "execution_count": 1,
      "outputs": [
        {
          "output_type": "stream",
          "text": [
            "        name  score  attempts qualify\n",
            "2  Katherine   16.5         2     yes\n",
            "5    Michael   20.0         3     yes\n",
            "9      Jonas   19.0         1     yes\n"
          ],
          "name": "stdout"
        }
      ]
    },
    {
      "cell_type": "markdown",
      "metadata": {
        "id": "qAIk_T79Bi-7"
      },
      "source": [
        "Write a Pandas program to add a column named \"column1\" in the sixth position of the \"coalpublic2013.xlsx\" excel sheet and ll it with NaN values"
      ]
    },
    {
      "cell_type": "code",
      "metadata": {
        "colab": {
          "base_uri": "https://localhost:8080/"
        },
        "id": "0q_TMJzuBlky",
        "outputId": "312d6979-8ac6-4e95-dd28-b7053cd71e02"
      },
      "source": [
        "import pandas as pd\r\n",
        "import numpy as np\r\n",
        "from google.colab import drive\r\n",
        "drive.mount('/content/gdrive') \r\n",
        "df = pd.read_excel('/content/gdrive/MyDrive/PANDAS Assignment/coalpublic2013.xlsx')\r\n",
        "df.insert(5, \"column1\", np.nan)\r\n",
        "print(df.columns)"
      ],
      "execution_count": 4,
      "outputs": [
        {
          "output_type": "stream",
          "text": [
            "Drive already mounted at /content/gdrive; to attempt to forcibly remount, call drive.mount(\"/content/gdrive\", force_remount=True).\n",
            "Index(['Year', 'MSHA ID', 'Mine_Name', 'Production', 'Labor_Hours', 'column1'], dtype='object')\n"
          ],
          "name": "stdout"
        }
      ]
    },
    {
      "cell_type": "code",
      "metadata": {
        "colab": {
          "base_uri": "https://localhost:8080/"
        },
        "id": "MoPM0cGBB90u",
        "outputId": "fc790b75-890e-4e51-a08e-3119966887f4"
      },
      "source": [
        "import pandas as pd\r\n",
        "import numpy as np\r\n",
        "from google.colab import drive\r\n",
        "df = pd.read_excel('/content/gdrive/MyDrive/PANDAS Assignment/coalpublic2013.xlsx')\r\n",
        "print(df[df.Mine_Name.str.startswith('P')] )"
      ],
      "execution_count": 5,
      "outputs": [
        {
          "output_type": "stream",
          "text": [
            "    Year  MSHA ID                      Mine_Name Production Labor_Hours\n",
            "13  2013   103332                  Powhatan Mine   1,40,521       61394\n",
            "18  2013   102976  Piney Woods Preparation Plant          0       14828\n",
            "19  2013   102976  Piney Woods Preparation Plant          0       23193\n",
            "46  2013   103321                 Poplar Springs   1,89,370       76366\n"
          ],
          "name": "stdout"
        }
      ]
    },
    {
      "cell_type": "code",
      "metadata": {
        "colab": {
          "base_uri": "https://localhost:8080/"
        },
        "id": "OKZdd6KoCEHp",
        "outputId": "4ead72ec-4449-4568-b66a-facad41151b6"
      },
      "source": [
        "import pandas as pd\r\n",
        "import numpy as np\r\n",
        "from google.colab import drive\r\n",
        "df = pd.read_csv('/content/gdrive/MyDrive/PANDAS Assignment/employee.csv')\r\n",
        "df.hire_date=pd.to_datetime(df.hire_date)\r\n",
        "print(df[df['hire_date'] >'2007/01/01'])\r\n"
      ],
      "execution_count": 6,
      "outputs": [
        {
          "output_type": "stream",
          "text": [
            "    emp_id first_name   last_name  hire_date\n",
            "4      104      Bruce       Ernst 2007-05-21\n",
            "7      107      Diana     Lorentz 2007-02-07\n",
            "13     113       Luis        Popp 2007-12-07\n",
            "19     119      Karen  Colmenares 2007-08-10\n"
          ],
          "name": "stdout"
        }
      ]
    },
    {
      "cell_type": "code",
      "metadata": {
        "colab": {
          "base_uri": "https://localhost:8080/"
        },
        "id": "F1ZyKiAoCHfL",
        "outputId": "41dc0a11-795f-4fcf-8d8f-986bdc49c4fe"
      },
      "source": [
        "import pandas as pd\r\n",
        "import numpy as np\r\n",
        "df = pd.read_csv('/content/gdrive/MyDrive/PANDAS Assignment/Automobile_data.csv')\r\n",
        "Average=df.groupby(by='company')\r\n",
        "print(Average['average-mileage'].mean())"
      ],
      "execution_count": 7,
      "outputs": [
        {
          "output_type": "stream",
          "text": [
            "company\n",
            "alfa-romero      20.333333\n",
            "audi             20.000000\n",
            "bmw              19.000000\n",
            "chevrolet        41.000000\n",
            "dodge            31.000000\n",
            "honda            26.333333\n",
            "isuzu            33.333333\n",
            "jaguar           14.333333\n",
            "mazda            28.000000\n",
            "mercedes-benz    18.000000\n",
            "mitsubishi       29.500000\n",
            "nissan           31.400000\n",
            "porsche          17.000000\n",
            "toyota           28.714286\n",
            "volkswagen       31.750000\n",
            "volvo            23.000000\n",
            "Name: average-mileage, dtype: float64\n"
          ],
          "name": "stdout"
        }
      ]
    },
    {
      "cell_type": "code",
      "metadata": {
        "colab": {
          "base_uri": "https://localhost:8080/"
        },
        "id": "cThXyy0zCKEz",
        "outputId": "1b7fef7b-59a9-41dd-dcef-4002db8c545a"
      },
      "source": [
        "import pandas as pd\r\n",
        "import numpy as np\r\n",
        "df = pd.read_csv('/content/gdrive/MyDrive/PANDAS Assignment/Automobile_data.csv')\r\n",
        "print(max(df.price))\r\n"
      ],
      "execution_count": 8,
      "outputs": [
        {
          "output_type": "stream",
          "text": [
            "45400.0\n"
          ],
          "name": "stdout"
        }
      ]
    }
  ]
}